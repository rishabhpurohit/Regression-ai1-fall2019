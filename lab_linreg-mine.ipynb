{
 "cells": [
  {
   "cell_type": "markdown",
   "metadata": {},
   "source": [
    "# Linear Regression Multiple Ways"
   ]
  },
  {
   "cell_type": "markdown",
   "metadata": {},
   "source": [
    "## Making the data\n",
    "\n",
    "We'll first construct a synthetic data set..using a function from the `scikit-learn` library. Synthetic data is nice in the sense that we can constrain how the noise behaves, and thus isolate effects."
   ]
  },
  {
   "cell_type": "code",
   "execution_count": 81,
   "metadata": {},
   "outputs": [],
   "source": [
    "%matplotlib inline\n",
    "from sklearn.datasets import make_regression\n",
    "import numpy as np\n",
    "import matplotlib.pyplot as plt"
   ]
  },
  {
   "cell_type": "code",
   "execution_count": 3,
   "metadata": {},
   "outputs": [],
   "source": [
    "#code adapted from http://tillbergmann.com/blog/python-gradient-descent.html\n",
    "X, y, coef = make_regression(n_samples = 100, \n",
    "                       n_features=1, \n",
    "                       noise=20,\n",
    "                       random_state=2017,\n",
    "                       coef=True)"
   ]
  },
  {
   "cell_type": "code",
   "execution_count": 10,
   "metadata": {},
   "outputs": [
    {
     "data": {
      "text/plain": [
       "(100, 1)"
      ]
     },
     "execution_count": 10,
     "metadata": {},
     "output_type": "execute_result"
    }
   ],
   "source": [
    "X.shape"
   ]
  },
  {
   "cell_type": "code",
   "execution_count": 11,
   "metadata": {},
   "outputs": [
    {
     "data": {
      "text/plain": [
       "array([[ 0.03225343],\n",
       "       [-0.43717257],\n",
       "       [-0.14039799],\n",
       "       [-0.28942671],\n",
       "       [-1.43048995],\n",
       "       [-0.86109055],\n",
       "       [-0.95908022],\n",
       "       [-0.52824237],\n",
       "       [-0.18007786],\n",
       "       [ 1.81894788],\n",
       "       [-1.50157469],\n",
       "       [ 1.07524045],\n",
       "       [-0.53757079],\n",
       "       [-0.33654744],\n",
       "       [-0.69333384],\n",
       "       [ 0.18613021],\n",
       "       [-0.35285906],\n",
       "       [-0.59573347],\n",
       "       [-0.95284841],\n",
       "       [ 1.37214258],\n",
       "       [-1.00148098],\n",
       "       [ 0.59405599],\n",
       "       [ 1.98893004],\n",
       "       [-0.84764818],\n",
       "       [ 0.21276995],\n",
       "       [-0.86352344],\n",
       "       [-0.44574656],\n",
       "       [-1.08669572],\n",
       "       [ 0.88578638],\n",
       "       [-0.39457786],\n",
       "       [-0.75808346],\n",
       "       [ 0.21445342],\n",
       "       [-0.91772873],\n",
       "       [ 1.18192126],\n",
       "       [-1.23456807],\n",
       "       [ 1.51028721],\n",
       "       [ 0.36908201],\n",
       "       [ 0.07800759],\n",
       "       [ 0.92827925],\n",
       "       [ 0.91180261],\n",
       "       [ 0.50541435],\n",
       "       [ 0.39476163],\n",
       "       [-1.40727442],\n",
       "       [ 1.33682587],\n",
       "       [ 0.28914398],\n",
       "       [ 0.10784411],\n",
       "       [-0.48610801],\n",
       "       [-1.01412413],\n",
       "       [-0.99058644],\n",
       "       [-0.81726253],\n",
       "       [ 1.19533418],\n",
       "       [ 1.39334529],\n",
       "       [-0.55307527],\n",
       "       [ 1.31181742],\n",
       "       [-0.20875222],\n",
       "       [ 0.02615138],\n",
       "       [ 0.03133165],\n",
       "       [-0.85845574],\n",
       "       [-0.09592554],\n",
       "       [ 0.57347598],\n",
       "       [ 0.88361674],\n",
       "       [-0.27481173],\n",
       "       [-0.89590558],\n",
       "       [-1.02294529],\n",
       "       [ 1.44454617],\n",
       "       [ 0.74268098],\n",
       "       [-0.55325354],\n",
       "       [ 0.46630994],\n",
       "       [ 0.81253433],\n",
       "       [-0.38342089],\n",
       "       [ 1.14773859],\n",
       "       [ 0.19909227],\n",
       "       [-0.09843773],\n",
       "       [-0.39285043],\n",
       "       [ 1.20320029],\n",
       "       [-1.56386788],\n",
       "       [-0.724668  ],\n",
       "       [-0.84860918],\n",
       "       [-0.22007928],\n",
       "       [-0.73312349],\n",
       "       [-0.44412137],\n",
       "       [ 1.23233384],\n",
       "       [-0.48253414],\n",
       "       [ 0.6770562 ],\n",
       "       [ 0.89574884],\n",
       "       [-0.01124513],\n",
       "       [-0.520261  ],\n",
       "       [-2.20268367],\n",
       "       [ 1.20129796],\n",
       "       [-0.74358543],\n",
       "       [-0.70954338],\n",
       "       [-0.19933591],\n",
       "       [-1.08933018],\n",
       "       [ 0.78779876],\n",
       "       [ 0.14851281],\n",
       "       [-0.59370289],\n",
       "       [ 0.44482146],\n",
       "       [ 2.42038368],\n",
       "       [ 0.67422499],\n",
       "       [ 0.02184234]])"
      ]
     },
     "execution_count": 11,
     "metadata": {},
     "output_type": "execute_result"
    }
   ],
   "source": [
    "X"
   ]
  },
  {
   "cell_type": "markdown",
   "metadata": {},
   "source": [
    "Notice that the X is in the canonical array-of-arrays format.\n",
    "**Try and print its shape**"
   ]
  },
  {
   "cell_type": "code",
   "execution_count": 13,
   "metadata": {},
   "outputs": [
    {
     "data": {
      "text/plain": [
       "()"
      ]
     },
     "execution_count": 13,
     "metadata": {},
     "output_type": "execute_result"
    }
   ],
   "source": [
    "coef"
   ]
  },
  {
   "cell_type": "markdown",
   "metadata": {},
   "source": [
    "We are fitting a model with an intercept. Lets see what it is."
   ]
  },
  {
   "cell_type": "code",
   "execution_count": 14,
   "metadata": {},
   "outputs": [
    {
     "data": {
      "text/plain": [
       "array(80.88336208)"
      ]
     },
     "execution_count": 14,
     "metadata": {},
     "output_type": "execute_result"
    }
   ],
   "source": [
    "coef"
   ]
  },
  {
   "cell_type": "markdown",
   "metadata": {},
   "source": [
    "We can plot the data."
   ]
  },
  {
   "cell_type": "code",
   "execution_count": 82,
   "metadata": {},
   "outputs": [
    {
     "data": {
      "image/png": "[encoded data removed]",
      "text/plain": [
       "<Figure size 432x288 with 1 Axes>"
      ]
     },
     "metadata": {
      "needs_background": "light"
     },
     "output_type": "display_data"
    }
   ],
   "source": [
    "plt.plot(X,y, 'o');"
   ]
  },
  {
   "cell_type": "markdown",
   "metadata": {},
   "source": [
    "For the purposes of drawing the regression line, lets create a uniform grid of points, and then reshape it into the canonical format"
   ]
  },
  {
   "cell_type": "code",
   "execution_count": 20,
   "metadata": {},
   "outputs": [],
   "source": [
    "xgrid = np.linspace(-2.5,2.5,1000)\n",
    "Xgrid = xgrid.reshape(-1,1)"
   ]
  },
  {
   "cell_type": "code",
   "execution_count": 21,
   "metadata": {},
   "outputs": [
    {
     "data": {
      "text/plain": [
       "(1000, 1)"
      ]
     },
     "execution_count": 21,
     "metadata": {},
     "output_type": "execute_result"
    }
   ],
   "source": [
    "Xgrid.shape"
   ]
  },
  {
   "cell_type": "markdown",
   "metadata": {},
   "source": [
    "## Fit using sklearn"
   ]
  },
  {
   "cell_type": "code",
   "execution_count": 22,
   "metadata": {},
   "outputs": [],
   "source": [
    "from sklearn.linear_model import LinearRegression"
   ]
  },
  {
   "cell_type": "code",
   "execution_count": 23,
   "metadata": {},
   "outputs": [
    {
     "data": {
      "text/plain": [
       "(array([82.90456142]), -3.7092288686703023)"
      ]
     },
     "execution_count": 23,
     "metadata": {},
     "output_type": "execute_result"
    }
   ],
   "source": [
    "lr = LinearRegression()\n",
    "lr.fit(X,y)\n",
    "ypgrid = lr.predict(Xgrid)\n",
    "lr.coef_, lr.intercept_"
   ]
  },
  {
   "cell_type": "code",
   "execution_count": 24,
   "metadata": {},
   "outputs": [
    {
     "data": {
      "text/plain": [
       "[<matplotlib.lines.Line2D at 0x19a54d0>]"
      ]
     },
     "execution_count": 24,
     "metadata": {},
     "output_type": "execute_result"
    },
    {
     "data": {
      "image/png": "[encoded data removed]",
      "text/plain": [
       "<Figure size 432x288 with 1 Axes>"
      ]
     },
     "metadata": {
      "needs_background": "light"
     },
     "output_type": "display_data"
    }
   ],
   "source": [
    "plt.plot(Xgrid, ypgrid)\n",
    "plt.plot(X, y, '.')"
   ]
  },
  {
   "cell_type": "code",
   "execution_count": 25,
   "metadata": {},
   "outputs": [],
   "source": [
    "from sklearn.metrics import r2_score"
   ]
  },
  {
   "cell_type": "code",
   "execution_count": 26,
   "metadata": {},
   "outputs": [
    {
     "data": {
      "text/plain": [
       "0.9342344891672815"
      ]
     },
     "execution_count": 26,
     "metadata": {},
     "output_type": "execute_result"
    }
   ],
   "source": [
    "r2_score(y, lr.predict(X)) #"
   ]
  },
  {
   "cell_type": "code",
   "execution_count": null,
   "metadata": {},
   "outputs": [],
   "source": []
  },
  {
   "cell_type": "code",
   "execution_count": 31,
   "metadata": {},
   "outputs": [
    {
     "data": {
      "text/plain": [
       "0.9342344891672816"
      ]
     },
     "execution_count": 31,
     "metadata": {},
     "output_type": "execute_result"
    }
   ],
   "source": [
    "lr.score(X,y)"
   ]
  },
  {
   "cell_type": "markdown",
   "metadata": {},
   "source": [
    "## The impact of sample size\n",
    "\n",
    "We'll sample 20 points from the data set. We do this by sampling 20 indices, index into X and y, and then fit on the sample"
   ]
  },
  {
   "cell_type": "code",
   "execution_count": 43,
   "metadata": {},
   "outputs": [
    {
     "data": {
      "text/plain": [
       "array([ 7, 36, 37, 84, 78, 85, 97, 18, 86, 49, 82,  5, 47, 83,  2, 91, 87,\n",
       "       87, 50, 62])"
      ]
     },
     "execution_count": 43,
     "metadata": {},
     "output_type": "execute_result"
    }
   ],
   "source": [
    "sample_indices = np.random.choice(range(100), size=20)\n",
    "sample_indices"
   ]
  },
  {
   "cell_type": "code",
   "execution_count": 44,
   "metadata": {},
   "outputs": [],
   "source": [
    "Xsample = X[sample_indices]\n",
    "ysample = y[sample_indices]"
   ]
  },
  {
   "cell_type": "code",
   "execution_count": 45,
   "metadata": {},
   "outputs": [
    {
     "data": {
      "text/plain": [
       "(0.9623931161060186, 0.9623931161060185)"
      ]
     },
     "execution_count": 45,
     "metadata": {},
     "output_type": "execute_result"
    }
   ],
   "source": [
    "lr_s = LinearRegression().fit(Xsample, ysample)\n",
    "r2_score(ysample, lr_s.predict(Xsample)), lr_s.score(Xsample, ysample)"
   ]
  },
  {
   "cell_type": "markdown",
   "metadata": {},
   "source": [
    "Lets check the sensitivity of our prediction to our sample. We'll do this 1000 times"
   ]
  },
  {
   "cell_type": "code",
   "execution_count": 51,
   "metadata": {},
   "outputs": [
    {
     "data": {
      "text/plain": [
       "(0.7, 1)"
      ]
     },
     "execution_count": 51,
     "metadata": {},
     "output_type": "execute_result"
    },
    {
     "data": {
      "image/png": "[encoded data removed]",
      "text/plain": [
       "<Figure size 432x288 with 1 Axes>"
      ]
     },
     "metadata": {
      "needs_background": "light"
     },
     "output_type": "display_data"
    }
   ],
   "source": [
    "scores = []\n",
    "for i in range(1000):\n",
    "    sample_indices = np.random.choice(range(100), size=20)\n",
    "    Xsample = X[sample_indices]\n",
    "    ysample = y[sample_indices]\n",
    "    scores.append(LinearRegression().fit(Xsample, ysample).score(Xsample, ysample))\n",
    "plt.hist(scores,  bins=np.linspace(0.7, 1, 30))\n",
    "plt.xlim(0.7,1)"
   ]
  },
  {
   "cell_type": "code",
   "execution_count": 53,
   "metadata": {},
   "outputs": [
    {
     "data": {
      "text/plain": [
       "[0.9280410597687131,\n",
       " 0.9119949221932626,\n",
       " 0.9191795009014617,\n",
       " 0.894054153388641,\n",
       " 0.9059046573553835,\n",
       " 0.9411652345389802,\n",
       " 0.9360104386885525,\n",
       " 0.8961563004112889,\n",
       " 0.950204087945105,\n",
       " 0.9691694014486603,\n",
       " 0.9046038457444586,\n",
       " 0.9091909598513201,\n",
       " 0.9311171846290793,\n",
       " 0.9258765638653187,\n",
       " 0.9602371712552444,\n",
       " 0.9358773732679349,\n",
       " 0.9378378823454031,\n",
       " 0.966739017152079,\n",
       " 0.9248379260741941,\n",
       " 0.9294733869268486,\n",
       " 0.9770423769673132,\n",
       " 0.9159114492148249,\n",
       " 0.967229206766424,\n",
       " 0.8805987517379005,\n",
       " 0.9532086499862007,\n",
       " 0.8952979096854032,\n",
       " 0.960413442085716,\n",
       " 0.9195181050952913,\n",
       " 0.9486653238006184,\n",
       " 0.9194879539412749,\n",
       " 0.9523977289403425,\n",
       " 0.8967550266195995,\n",
       " 0.9457479043325594,\n",
       " 0.9469570191682394,\n",
       " 0.9216602070997557,\n",
       " 0.9141255596033806,\n",
       " 0.9392792902117567,\n",
       " 0.9578962645067206,\n",
       " 0.9622188271666771,\n",
       " 0.9171473462869753,\n",
       " 0.9151678354600132,\n",
       " 0.9474303151577592,\n",
       " 0.9666657136177996,\n",
       " 0.9597252428894294,\n",
       " 0.9625411000015024,\n",
       " 0.9496140487330356,\n",
       " 0.9429876840549716,\n",
       " 0.9369101554944764,\n",
       " 0.9061891448586257,\n",
       " 0.9237351523347477,\n",
       " 0.9392492147935342,\n",
       " 0.9237638406723544,\n",
       " 0.8926150126954391,\n",
       " 0.9481483972812843,\n",
       " 0.9307635086526574,\n",
       " 0.9196940644547555,\n",
       " 0.9550291427836791,\n",
       " 0.8861071797299,\n",
       " 0.9659045325144107,\n",
       " 0.9179493649811764,\n",
       " 0.9415643977274548,\n",
       " 0.9555923595402951,\n",
       " 0.9605298580636431,\n",
       " 0.9321113203502814,\n",
       " 0.8580899307037204,\n",
       " 0.9659987623120531,\n",
       " 0.8860081072102064,\n",
       " 0.9510735923833831,\n",
       " 0.9244284141003964,\n",
       " 0.9332649378271618,\n",
       " 0.9219443652488369,\n",
       " 0.944329187036764,\n",
       " 0.9483065689680985,\n",
       " 0.9220697584847584,\n",
       " 0.9119712041594463,\n",
       " 0.9076183913589487,\n",
       " 0.9541525868761568,\n",
       " 0.9359306941301581,\n",
       " 0.946844104618135,\n",
       " 0.9451029145824003,\n",
       " 0.958238458746229,\n",
       " 0.8987201890066518,\n",
       " 0.9179021943086723,\n",
       " 0.9120322082866048,\n",
       " 0.9063903411819408,\n",
       " 0.8955020415845891,\n",
       " 0.9306094783440173,\n",
       " 0.9090268183421834,\n",
       " 0.9127331147251555,\n",
       " 0.9262141533870412,\n",
       " 0.985799674835009,\n",
       " 0.9100419675528582,\n",
       " 0.9173213351895297,\n",
       " 0.9563463594927956,\n",
       " 0.9444638155534794,\n",
       " 0.970901789694158,\n",
       " 0.9638131325023007,\n",
       " 0.9531442685517362,\n",
       " 0.9214997959738168,\n",
       " 0.971367505491374,\n",
       " 0.8890289950724702,\n",
       " 0.9708409257436664,\n",
       " 0.9471183941592093,\n",
       " 0.926031050831141,\n",
       " 0.9639688079406854,\n",
       " 0.9558313935596363,\n",
       " 0.9416954467831291,\n",
       " 0.9333499903378781,\n",
       " 0.921046324566865,\n",
       " 0.86271867498241,\n",
       " 0.9373743498564693,\n",
       " 0.9310765892184151,\n",
       " 0.9472173077394367,\n",
       " 0.9603651329783761,\n",
       " 0.9716943162183528,\n",
       " 0.9632326520423479,\n",
       " 0.9316812310479684,\n",
       " 0.946003811621276,\n",
       " 0.9759305149688328,\n",
       " 0.9457375485493765,\n",
       " 0.9429989484672663,\n",
       " 0.9287154193490108,\n",
       " 0.8645642225202042,\n",
       " 0.9610591505988189,\n",
       " 0.9524760177534501,\n",
       " 0.9286582187730429,\n",
       " 0.8210179815671514,\n",
       " 0.9560943852705746,\n",
       " 0.9366338524960978,\n",
       " 0.9117647998023813,\n",
       " 0.9532139525298003,\n",
       " 0.9165191880989116,\n",
       " 0.9417555981734282,\n",
       " 0.9207224341725104,\n",
       " 0.972564105587023,\n",
       " 0.9525013460460292,\n",
       " 0.8967053198400229,\n",
       " 0.9401239609081598,\n",
       " 0.9236040560048523,\n",
       " 0.9235647603348887,\n",
       " 0.9383694808014119,\n",
       " 0.9271713794197323,\n",
       " 0.9411488954427516,\n",
       " 0.8786997654083836,\n",
       " 0.9037528208117103,\n",
       " 0.9560627201850098,\n",
       " 0.9551092600318823,\n",
       " 0.8943824457083862,\n",
       " 0.9316292249614218,\n",
       " 0.9296555127925963,\n",
       " 0.8987563981752636,\n",
       " 0.9454464117142096,\n",
       " 0.948607036715837,\n",
       " 0.9066666584180046,\n",
       " 0.9016655620330204,\n",
       " 0.9694266341045383,\n",
       " 0.9256974604626472,\n",
       " 0.9397407293714778,\n",
       " 0.9170359151432346,\n",
       " 0.9632398352321203,\n",
       " 0.8884057980099657,\n",
       " 0.9411804008525305,\n",
       " 0.958176472868319,\n",
       " 0.8998560997664323,\n",
       " 0.9442797991035471,\n",
       " 0.950412718080373,\n",
       " 0.9402890861379324,\n",
       " 0.9615561199095914,\n",
       " 0.8915714511069004,\n",
       " 0.9012424001566113,\n",
       " 0.954911449797603,\n",
       " 0.8929139404275492,\n",
       " 0.9205748093432367,\n",
       " 0.9446705243004822,\n",
       " 0.9669891391252116,\n",
       " 0.946621196266452,\n",
       " 0.8907713983419093,\n",
       " 0.8708057616427782,\n",
       " 0.8126296942976814,\n",
       " 0.9076048619538818,\n",
       " 0.9446264660793722,\n",
       " 0.8891520965122748,\n",
       " 0.8952346524855481,\n",
       " 0.8874882925525872,\n",
       " 0.9147117133922754,\n",
       " 0.9309802154738658,\n",
       " 0.9515677033809394,\n",
       " 0.9460924034396776,\n",
       " 0.9539453988523624,\n",
       " 0.9370396536813935,\n",
       " 0.942942410396072,\n",
       " 0.9527942855349676,\n",
       " 0.9818688088906032,\n",
       " 0.9718830270104477,\n",
       " 0.9598220647070828,\n",
       " 0.9686603631245359,\n",
       " 0.9308683682565887,\n",
       " 0.9697174035950689,\n",
       " 0.9557501368619028,\n",
       " 0.8987371991355035,\n",
       " 0.9679570869010031,\n",
       " 0.9467369200879613,\n",
       " 0.9500675326784325,\n",
       " 0.9403932448126089,\n",
       " 0.8863997334668295,\n",
       " 0.9312739102855552,\n",
       " 0.9475774771129353,\n",
       " 0.966487172735951,\n",
       " 0.97148597615011,\n",
       " 0.9733134790759074,\n",
       " 0.9010175195143242,\n",
       " 0.9582522371254191,\n",
       " 0.8951154121218641,\n",
       " 0.9004219867143859,\n",
       " 0.8619439691425277,\n",
       " 0.9106886112376059,\n",
       " 0.9065454648120942,\n",
       " 0.90616369585416,\n",
       " 0.9195961772737373,\n",
       " 0.8593923113256821,\n",
       " 0.909413270684506,\n",
       " 0.9261982254883285,\n",
       " 0.8750874054397927,\n",
       " 0.9377435748444224,\n",
       " 0.9231666767975016,\n",
       " 0.9394826375269316,\n",
       " 0.9184934080273,\n",
       " 0.9751225010298842,\n",
       " 0.9163839218227523,\n",
       " 0.9328387144466107,\n",
       " 0.9599851047303535,\n",
       " 0.9209924150089386,\n",
       " 0.8987052804720723,\n",
       " 0.9524036390408018,\n",
       " 0.9685615939627134,\n",
       " 0.9402894321587809,\n",
       " 0.9401758563418874,\n",
       " 0.9262143812822405,\n",
       " 0.8793585805146654,\n",
       " 0.9559743420531662,\n",
       " 0.9351326806842678,\n",
       " 0.9431021170418112,\n",
       " 0.8847875643487902,\n",
       " 0.9376312866846371,\n",
       " 0.9515165686421359,\n",
       " 0.9705183436735301,\n",
       " 0.936366596817559,\n",
       " 0.9894455046794774,\n",
       " 0.9307439589801071,\n",
       " 0.8890580371073237,\n",
       " 0.9229863761636536,\n",
       " 0.9745831508067119,\n",
       " 0.9450142101152675,\n",
       " 0.9341311466077807,\n",
       " 0.9211095621023841,\n",
       " 0.9042085228906371,\n",
       " 0.9515658036290009,\n",
       " 0.9606557705158961,\n",
       " 0.9373403781044259,\n",
       " 0.9290390776768399,\n",
       " 0.9107901264349768,\n",
       " 0.9003417017382545,\n",
       " 0.9620627111648247,\n",
       " 0.9329950740446453,\n",
       " 0.9315019574492114,\n",
       " 0.964951689904161,\n",
       " 0.9052421986523057,\n",
       " 0.9591285391912647,\n",
       " 0.9528784025763813,\n",
       " 0.9217254975105846,\n",
       " 0.9580818891226267,\n",
       " 0.9503133361669072,\n",
       " 0.933717214223033,\n",
       " 0.9688685082757109,\n",
       " 0.9104701767108646,\n",
       " 0.9319689061290163,\n",
       " 0.9550709207572025,\n",
       " 0.9676122002761176,\n",
       " 0.8882198643526127,\n",
       " 0.8337107296087554,\n",
       " 0.9646100574461713,\n",
       " 0.9409323670745599,\n",
       " 0.9421963022445343,\n",
       " 0.9426099763031986,\n",
       " 0.9328620761826835,\n",
       " 0.9319854464201907,\n",
       " 0.9363361138182841,\n",
       " 0.9269295828644559,\n",
       " 0.9228313664746878,\n",
       " 0.9668809472475928,\n",
       " 0.9434870593781179,\n",
       " 0.8842235900522804,\n",
       " 0.8267838763035167,\n",
       " 0.93123366617123,\n",
       " 0.9483864486341875,\n",
       " 0.925485572071615,\n",
       " 0.8447496686786781,\n",
       " 0.8979143552907509,\n",
       " 0.9163180064262856,\n",
       " 0.9632938810241125,\n",
       " 0.9400425743418486,\n",
       " 0.9596264586151904,\n",
       " 0.9367864938220261,\n",
       " 0.9620691405118048,\n",
       " 0.9405072579212803,\n",
       " 0.9506846582922783,\n",
       " 0.9116860176727023,\n",
       " 0.9107597732400867,\n",
       " 0.9154938733595825,\n",
       " 0.9567370328409502,\n",
       " 0.9462766729789582,\n",
       " 0.9650572550012655,\n",
       " 0.9110820825295793,\n",
       " 0.9509302700240111,\n",
       " 0.9372151547141712,\n",
       " 0.9388669016641157,\n",
       " 0.9112099377076129,\n",
       " 0.9443092374527302,\n",
       " 0.9159528194339193,\n",
       " 0.9424635199494114,\n",
       " 0.9291356691751831,\n",
       " 0.8979245980290775,\n",
       " 0.9745630677575443,\n",
       " 0.9644001742347131,\n",
       " 0.9191199129866038,\n",
       " 0.937607600477771,\n",
       " 0.905275757596871,\n",
       " 0.908246817282583,\n",
       " 0.9084042544390181,\n",
       " 0.9070930822381433,\n",
       " 0.9557400735532593,\n",
       " 0.9369029961006553,\n",
       " 0.961104174849129,\n",
       " 0.9471036354202357,\n",
       " 0.9286571622090833,\n",
       " 0.9658384798984306,\n",
       " 0.956677390400039,\n",
       " 0.9526963798573452,\n",
       " 0.9297570004576499,\n",
       " 0.9507244473746097,\n",
       " 0.9432813800220023,\n",
       " 0.9062268878084379,\n",
       " 0.9721103133409652,\n",
       " 0.9563042778248942,\n",
       " 0.9589068449544197,\n",
       " 0.8315854783264621,\n",
       " 0.9539836231055471,\n",
       " 0.9220749787730678,\n",
       " 0.9144546409859684,\n",
       " 0.9166014937016651,\n",
       " 0.8876017637707548,\n",
       " 0.909218285183886,\n",
       " 0.9108132625131906,\n",
       " 0.9620228182965048,\n",
       " 0.953719440421355,\n",
       " 0.9237285826302599,\n",
       " 0.9648169348514022,\n",
       " 0.9252031624601215,\n",
       " 0.9798394422676857,\n",
       " 0.9365918717715683,\n",
       " 0.9782813086921412,\n",
       " 0.9278526758576543,\n",
       " 0.9460958742626044,\n",
       " 0.9345845511435342,\n",
       " 0.9410105082001552,\n",
       " 0.9099777024210536,\n",
       " 0.9442686659908841,\n",
       " 0.8608318454507675,\n",
       " 0.9051029797039367,\n",
       " 0.9158255596839516,\n",
       " 0.935817735661825,\n",
       " 0.964073446304618,\n",
       " 0.9495514878592093,\n",
       " 0.9186716925283611,\n",
       " 0.8952383783562334,\n",
       " 0.9389373105998641,\n",
       " 0.8798653553769549,\n",
       " 0.9014152023909212,\n",
       " 0.9034335482169776,\n",
       " 0.9213103395095995,\n",
       " 0.953605162927108,\n",
       " 0.9329715733359664,\n",
       " 0.933880529624813,\n",
       " 0.9289471020455509,\n",
       " 0.9341926050816854,\n",
       " 0.9442073670553108,\n",
       " 0.8922709097492226,\n",
       " 0.8828882508827264,\n",
       " 0.9047905871580699,\n",
       " 0.9522275085540536,\n",
       " 0.9417851300119165,\n",
       " 0.95337580673819,\n",
       " 0.9576028419963674,\n",
       " 0.956101017298908,\n",
       " 0.9160307006572685,\n",
       " 0.9385071859821696,\n",
       " 0.9295600179827811,\n",
       " 0.9556645022820485,\n",
       " 0.9238379449062125,\n",
       " 0.9519879596728427,\n",
       " 0.9304065795159108,\n",
       " 0.9087884288147392,\n",
       " 0.9486459668828346,\n",
       " 0.9550437409675432,\n",
       " 0.7717776515188297,\n",
       " 0.9258903598502654,\n",
       " 0.9447017617421942,\n",
       " 0.8999021168748126,\n",
       " 0.9577295219634215,\n",
       " 0.933746518562812,\n",
       " 0.9426476947539926,\n",
       " 0.8644813726402534,\n",
       " 0.9061650157960509,\n",
       " 0.9528665368902692,\n",
       " 0.9516297199360131,\n",
       " 0.9517830674961297,\n",
       " 0.9611024104194782,\n",
       " 0.9461561129235888,\n",
       " 0.9615150208067045,\n",
       " 0.8990466097729822,\n",
       " 0.94336828376103,\n",
       " 0.9383487266871244,\n",
       " 0.9331364937310254,\n",
       " 0.932206426203083,\n",
       " 0.9498576917764195,\n",
       " 0.9560896409319689,\n",
       " 0.9279775796569395,\n",
       " 0.8851801553679588,\n",
       " 0.9250686307450886,\n",
       " 0.9657646537130765,\n",
       " 0.8648220385805856,\n",
       " 0.8623167284417685,\n",
       " 0.9586583853502396,\n",
       " 0.95371591624756,\n",
       " 0.9673777645259795,\n",
       " 0.9325305075927947,\n",
       " 0.9555419989180125,\n",
       " 0.9279714795962741,\n",
       " 0.9381002604549342,\n",
       " 0.9605110344104452,\n",
       " 0.9353843790951072,\n",
       " 0.9552363086700096,\n",
       " 0.961686979352958,\n",
       " 0.9438087048388689,\n",
       " 0.9057119421830134,\n",
       " 0.9495367529831966,\n",
       " 0.962155980839988,\n",
       " 0.9354695917514078,\n",
       " 0.9444647911210048,\n",
       " 0.9573664817210128,\n",
       " 0.9496006035143789,\n",
       " 0.9047136640743136,\n",
       " 0.9043439381190714,\n",
       " 0.921801291688664,\n",
       " 0.9421454370899681,\n",
       " 0.9691048616211754,\n",
       " 0.9235347406417685,\n",
       " 0.9025652644321968,\n",
       " 0.932463651334908,\n",
       " 0.974847130802879,\n",
       " 0.9551071732622428,\n",
       " 0.9508127826779715,\n",
       " 0.8387610045200762,\n",
       " 0.870732175797685,\n",
       " 0.8773925849316604,\n",
       " 0.9411009747524468,\n",
       " 0.9655578845648227,\n",
       " 0.9145337024412555,\n",
       " 0.8845428764655324,\n",
       " 0.9677609242715023,\n",
       " 0.9241524354383601,\n",
       " 0.9571357275468595,\n",
       " 0.8506139533596012,\n",
       " 0.9561383514598324,\n",
       " 0.940618221232271,\n",
       " 0.935617606902548,\n",
       " 0.9535794491176446,\n",
       " 0.8631625524650979,\n",
       " 0.9048962726270029,\n",
       " 0.9381526053069473,\n",
       " 0.9491039946779388,\n",
       " 0.9509239367453911,\n",
       " 0.9345171184190334,\n",
       " 0.933792175021551,\n",
       " 0.8658463934905051,\n",
       " 0.9582032700089019,\n",
       " 0.9643988664755092,\n",
       " 0.8817919763627752,\n",
       " 0.962666629597064,\n",
       " 0.9546234920581335,\n",
       " 0.8996624368294683,\n",
       " 0.9527424159785849,\n",
       " 0.9272849587468638,\n",
       " 0.9860972366500859,\n",
       " 0.9412779615326157,\n",
       " 0.9257289286076309,\n",
       " 0.9671941948309849,\n",
       " 0.9314153438493796,\n",
       " 0.9580821631658067,\n",
       " 0.8194352116219941,\n",
       " 0.904084674321989,\n",
       " 0.9424765014141768,\n",
       " 0.8249344187861963,\n",
       " 0.9096538586151356,\n",
       " 0.9464728657266116,\n",
       " 0.9771551439118289,\n",
       " 0.8790027761549428,\n",
       " 0.9193041267134195,\n",
       " 0.9158955267339574,\n",
       " 0.9395322927067862,\n",
       " 0.9397712570720502,\n",
       " 0.9403684465409594,\n",
       " 0.9345776001324573,\n",
       " 0.9379265770270624,\n",
       " 0.9322146345311666,\n",
       " 0.9268498887012585,\n",
       " 0.9315594944157337,\n",
       " 0.9175708423630375,\n",
       " 0.9539077103494444,\n",
       " 0.9193115502188294,\n",
       " 0.9475441422544685,\n",
       " 0.9515856873808033,\n",
       " 0.9704524425771619,\n",
       " 0.9929809626468942,\n",
       " 0.9412147096188166,\n",
       " 0.9366192043082556,\n",
       " 0.9062422019891052,\n",
       " 0.9459706180923975,\n",
       " 0.938704599379386,\n",
       " 0.9662030087395777,\n",
       " 0.9126773814316632,\n",
       " 0.958580971949872,\n",
       " 0.8966925020262235,\n",
       " 0.9443528430129894,\n",
       " 0.9410967862202181,\n",
       " 0.9311101798347287,\n",
       " 0.9392206456991204,\n",
       " 0.9290146976816651,\n",
       " 0.9732937700678513,\n",
       " 0.9664753779026701,\n",
       " 0.9636387706813789,\n",
       " 0.9698534953146083,\n",
       " 0.9365153323320962,\n",
       " 0.9674415219260365,\n",
       " 0.9477903613192948,\n",
       " 0.9399607026502006,\n",
       " 0.9203744232684841,\n",
       " 0.8711446682979531,\n",
       " 0.9482559735618685,\n",
       " 0.9003061253910064,\n",
       " 0.9178194983151394,\n",
       " 0.9322185392498676,\n",
       " 0.9478860008633689,\n",
       " 0.934987945565484,\n",
       " 0.9426652829770982,\n",
       " 0.9433803635780873,\n",
       " 0.9400608735106767,\n",
       " 0.9259969396968921,\n",
       " 0.9472358169447385,\n",
       " 0.8872485189664043,\n",
       " 0.9034274137697365,\n",
       " 0.9709230421002989,\n",
       " 0.9420023218246792,\n",
       " 0.9494991232973774,\n",
       " 0.9487512925766406,\n",
       " 0.9233341903772965,\n",
       " 0.9324132433197624,\n",
       " 0.9380426039152556,\n",
       " 0.9404192350935793,\n",
       " 0.941494020937499,\n",
       " 0.9304309674039167,\n",
       " 0.9694821527957543,\n",
       " 0.9381281155030305,\n",
       " 0.9583337862224177,\n",
       " 0.8949592992184335,\n",
       " 0.9433396741015593,\n",
       " 0.8828645557593131,\n",
       " 0.9124357196704338,\n",
       " 0.8697314659052465,\n",
       " 0.9368048428090419,\n",
       " 0.8677784543297238,\n",
       " 0.9638385505315998,\n",
       " 0.8844418137995989,\n",
       " 0.9581844218273593,\n",
       " 0.9499411443427228,\n",
       " 0.9024296700299343,\n",
       " 0.9140579001713114,\n",
       " 0.9006980073068622,\n",
       " 0.8707903970048058,\n",
       " 0.9344117186284853,\n",
       " 0.9145794026726242,\n",
       " 0.9355907882638699,\n",
       " 0.9241797648038127,\n",
       " 0.9120309970430029,\n",
       " 0.9706267199189944,\n",
       " 0.9568737819228088,\n",
       " 0.9215429940651146,\n",
       " 0.9120586480051934,\n",
       " 0.9368743386234208,\n",
       " 0.9219657460126879,\n",
       " 0.9166443537797772,\n",
       " 0.9553401881561204,\n",
       " 0.9432165180555754,\n",
       " 0.9326487076506166,\n",
       " 0.9427301548705732,\n",
       " 0.9395846219607334,\n",
       " 0.9641625726230952,\n",
       " 0.9037073233754347,\n",
       " 0.9428402656550701,\n",
       " 0.9135364107581923,\n",
       " 0.9360497285637748,\n",
       " 0.9049394727860743,\n",
       " 0.9277542193122882,\n",
       " 0.972215965422423,\n",
       " 0.9252561910625124,\n",
       " 0.915110490007373,\n",
       " 0.9308830245047542,\n",
       " 0.9162953850881722,\n",
       " 0.9015270098448934,\n",
       " 0.9568299066468927,\n",
       " 0.8812489265844853,\n",
       " 0.9706965904873418,\n",
       " 0.8763681711167993,\n",
       " 0.9494998207548093,\n",
       " 0.9407858848580265,\n",
       " 0.9692860783080786,\n",
       " 0.9510138177901476,\n",
       " 0.91648019133682,\n",
       " 0.902716264723847,\n",
       " 0.8866636181500285,\n",
       " 0.9351930118434743,\n",
       " 0.9613359115754109,\n",
       " 0.9650804063683301,\n",
       " 0.9229222445894933,\n",
       " 0.9301948704531207,\n",
       " 0.9687611851035731,\n",
       " 0.9754174363668263,\n",
       " 0.9258913076804796,\n",
       " 0.9443775112498362,\n",
       " 0.9603029786739412,\n",
       " 0.8993818848071939,\n",
       " 0.9373078197244228,\n",
       " 0.8049514698969007,\n",
       " 0.9397306601028548,\n",
       " 0.9365975984272886,\n",
       " 0.9436388024551299,\n",
       " 0.9403702490947505,\n",
       " 0.9665884473269538,\n",
       " 0.9309291290919176,\n",
       " 0.9179705846589707,\n",
       " 0.9266763401963137,\n",
       " 0.9500365556406525,\n",
       " 0.9489870147419693,\n",
       " 0.9362337464352298,\n",
       " 0.9599360035134199,\n",
       " 0.9095004243676902,\n",
       " 0.9455412285067776,\n",
       " 0.9314454234011751,\n",
       " 0.9255455886177364,\n",
       " 0.9545480035455619,\n",
       " 0.9612859232820258,\n",
       " 0.967852482726199,\n",
       " 0.9401114593078127,\n",
       " 0.8794058390998489,\n",
       " 0.9156923350840674,\n",
       " 0.9199619907885171,\n",
       " 0.9465517075712316,\n",
       " 0.9484316091120764,\n",
       " 0.9374409391116509,\n",
       " 0.9703535818369298,\n",
       " 0.8974458218182526,\n",
       " 0.9002902396904844,\n",
       " 0.9403470963742975,\n",
       " 0.9314622528827696,\n",
       " 0.9601949960419232,\n",
       " 0.9446871259933926,\n",
       " 0.9534110099203122,\n",
       " 0.9266041021383344,\n",
       " 0.9363941250040684,\n",
       " 0.9397519399764312,\n",
       " 0.9623092734058063,\n",
       " 0.9093016622353496,\n",
       " 0.9535819539833588,\n",
       " 0.9345835481135177,\n",
       " 0.9630355011953695,\n",
       " 0.9172671141585784,\n",
       " 0.9597497517732368,\n",
       " 0.9482076384567393,\n",
       " 0.9014064276856214,\n",
       " 0.9583735684212327,\n",
       " 0.9641002229307161,\n",
       " 0.9416450500170948,\n",
       " 0.941356870331289,\n",
       " 0.9425604900046396,\n",
       " 0.9242770203460163,\n",
       " 0.9651873948409031,\n",
       " 0.9372526623137597,\n",
       " 0.9208374910531648,\n",
       " 0.9144952420510485,\n",
       " 0.9138711666987329,\n",
       " 0.9583081905680143,\n",
       " 0.9135538951281464,\n",
       " 0.9161730128283456,\n",
       " 0.872281583742253,\n",
       " 0.9450278934387516,\n",
       " 0.9167494111402235,\n",
       " 0.9384065612650977,\n",
       " 0.944849147079597,\n",
       " 0.9541366994796394,\n",
       " 0.9681527688358758,\n",
       " 0.8883460405943341,\n",
       " 0.9308596615147139,\n",
       " 0.8573386370461474,\n",
       " 0.8581685153407708,\n",
       " 0.9194546986505079,\n",
       " 0.9624142136968818,\n",
       " 0.9425865164556931,\n",
       " 0.9340016384357864,\n",
       " 0.9372641160932225,\n",
       " 0.9231483865897852,\n",
       " 0.9425089651538692,\n",
       " 0.9630820597767371,\n",
       " 0.9487561947854188,\n",
       " 0.9469219434812897,\n",
       " 0.9721802077739923,\n",
       " 0.9605010347494747,\n",
       " 0.8752672959155424,\n",
       " 0.9467336258702916,\n",
       " 0.9373820704474624,\n",
       " 0.9611529114323417,\n",
       " 0.926892995372433,\n",
       " 0.9719605484593152,\n",
       " 0.9085168487435678,\n",
       " 0.9014484176737231,\n",
       " 0.9395549940978377,\n",
       " 0.9071141658143256,\n",
       " 0.9542092980468521,\n",
       " 0.9331068516866663,\n",
       " 0.9314406371244228,\n",
       " 0.9494712558951244,\n",
       " 0.9462925708034229,\n",
       " 0.9434782403197493,\n",
       " 0.9528317314284791,\n",
       " 0.9478664146577096,\n",
       " 0.9520204716952994,\n",
       " 0.957630856904805,\n",
       " 0.9763608132475701,\n",
       " 0.9391356248673408,\n",
       " 0.961364255321516,\n",
       " 0.9591336104989879,\n",
       " 0.9245654178608992,\n",
       " 0.8931040177632118,\n",
       " 0.9740079157032239,\n",
       " 0.9143538084809065,\n",
       " 0.9014958764242772,\n",
       " 0.893678206077433,\n",
       " 0.9400601800041519,\n",
       " 0.9315787141581832,\n",
       " 0.8497612520132353,\n",
       " 0.9396734655493989,\n",
       " 0.9372418087285692,\n",
       " 0.9209571364531888,\n",
       " 0.9438246692141035,\n",
       " 0.9454943990497733,\n",
       " 0.9643536502209467,\n",
       " 0.9360083203299361,\n",
       " 0.9239997872336321,\n",
       " 0.9617327961244365,\n",
       " 0.9700517249708307,\n",
       " 0.8958462166296669,\n",
       " 0.9649453859264154,\n",
       " 0.9420995780472425,\n",
       " 0.9562348511542933,\n",
       " 0.9194367562690041,\n",
       " 0.9456561687736791,\n",
       " 0.9635829307421088,\n",
       " 0.9459910175364736,\n",
       " 0.899411845175711,\n",
       " 0.92588165312562,\n",
       " 0.9661692845560838,\n",
       " 0.9292572688907988,\n",
       " 0.9483456445700138,\n",
       " 0.96372565074185,\n",
       " 0.9631473161700089,\n",
       " 0.9226807822368124,\n",
       " 0.9437373452497553,\n",
       " 0.9545286883015758,\n",
       " 0.9394881564241929,\n",
       " 0.8440841742100983,\n",
       " 0.9442470868027619,\n",
       " 0.9602104079505439,\n",
       " 0.8916144957922953,\n",
       " 0.963292374876946,\n",
       " 0.9723864164413089,\n",
       " 0.9724304693378101,\n",
       " 0.9394673042664672,\n",
       " 0.9095923272303114,\n",
       " 0.8907164420351118,\n",
       " 0.9135328820265737,\n",
       " 0.9392120961975077,\n",
       " 0.9511352857461748,\n",
       " 0.9281171002329603,\n",
       " 0.9586734762042626,\n",
       " 0.9268077965933754,\n",
       " 0.933104649296336,\n",
       " 0.9368299933053208,\n",
       " 0.94202081027106,\n",
       " 0.9122265630892579,\n",
       " 0.9491784788349944,\n",
       " 0.9831936195799217,\n",
       " 0.9693619628580747,\n",
       " 0.9430248619529186,\n",
       " 0.9497924707128302,\n",
       " 0.9663911764288254,\n",
       " 0.8901543876345743,\n",
       " 0.9194705532634779,\n",
       " 0.9428570577011813,\n",
       " 0.9490361625300844,\n",
       " 0.95513694389891,\n",
       " 0.9583154936170788,\n",
       " 0.95723082073202,\n",
       " 0.9303664788138232,\n",
       " 0.9581533778092306,\n",
       " 0.9369731559757756,\n",
       " 0.9301593243509431,\n",
       " 0.9412690474261893,\n",
       " 0.8247754931330282,\n",
       " 0.9488134222888508,\n",
       " 0.9108404685171928,\n",
       " 0.865665252521114,\n",
       " 0.9023935058639171,\n",
       " 0.9450986781282089,\n",
       " 0.9146888059340084,\n",
       " 0.9432300151286122,\n",
       " 0.9499192437617372,\n",
       " 0.9422676585446451,\n",
       " 0.9207469868673674,\n",
       " 0.9644509138739742,\n",
       " 0.9600818481433343,\n",
       " 0.9713937502128284,\n",
       " 0.9181459601953534,\n",
       " 0.9334595061908485,\n",
       " 0.909161685738229,\n",
       " 0.9431989506988583,\n",
       " 0.8101315999312991,\n",
       " 0.9550229617375825,\n",
       " 0.8896540874873442,\n",
       " 0.9054616264155132,\n",
       " 0.9584721416982522,\n",
       " 0.9264076118322191,\n",
       " 0.9232272216739932,\n",
       " 0.9571786008043809,\n",
       " 0.8943918824539557,\n",
       " 0.9630091836710296,\n",
       " 0.9651643182717337,\n",
       " 0.8737911512947564,\n",
       " 0.9571209492368427,\n",
       " 0.9059722466199028,\n",
       " 0.9501549366494993,\n",
       " 0.9333424578632672,\n",
       " 0.9525761909515519,\n",
       " 0.9408182233414405,\n",
       " 0.8842997818699293,\n",
       " 0.9592142694622183,\n",
       " 0.9595321136170891,\n",
       " 0.9554091673357613,\n",
       " 0.9443889504989672,\n",
       " 0.9504110677059264,\n",
       " 0.9093473697790997,\n",
       " 0.9649356380133104,\n",
       " 0.9364569445002457,\n",
       " 0.9411213314291079,\n",
       " 0.8897910557816773,\n",
       " 0.9166116403917368,\n",
       " 0.9530301074668336,\n",
       " 0.9331984335048474,\n",
       " 0.9537371487983868,\n",
       " 0.9658361048499527,\n",
       " 0.9540399162986597,\n",
       " 0.974175133667277,\n",
       " 0.9617221147718831,\n",
       " 0.9180630495493196,\n",
       " 0.9250104346563913,\n",
       " 0.9550858549290626,\n",
       " 0.9390863389439619,\n",
       " 0.9596238999212647,\n",
       " 0.914470069562299,\n",
       " 0.9572686638857988,\n",
       " 0.9331550766875598,\n",
       " 0.9627114601887551,\n",
       " 0.9232459856089184,\n",
       " 0.9216006697725262,\n",
       " 0.9588046999324735,\n",
       " 0.950775937883141,\n",
       " 0.943055906377154,\n",
       " 0.9239333945214335,\n",
       " 0.927214546688881,\n",
       " 0.9271913014380756,\n",
       " 0.9265625047366496,\n",
       " 0.8702553507470044,\n",
       " 0.9613259377698679,\n",
       " 0.9629202387149478,\n",
       " 0.9451065800198204,\n",
       " 0.9104452147377599,\n",
       " 0.9476278476538446,\n",
       " 0.8844671618719187,\n",
       " 0.7645266538746527,\n",
       " 0.8213512849569228,\n",
       " 0.9419200498930348,\n",
       " 0.9416823342229952,\n",
       " 0.9113525861646685,\n",
       " 0.903357454778515,\n",
       " 0.9250391223135177,\n",
       " 0.9373114210395947,\n",
       " 0.9729203398877753,\n",
       " 0.928496282140704,\n",
       " 0.9556819684978256,\n",
       " 0.9529460230046968,\n",
       " 0.8873946992376637,\n",
       " 0.9422556459584607,\n",
       " 0.9280567902286401,\n",
       " 0.9531250375304097,\n",
       " 0.9453079489878593,\n",
       " 0.9446749656693746,\n",
       " 0.9378593972967747,\n",
       " 0.9485943157755801,\n",
       " 0.9056946256413774,\n",
       " 0.8716821733385456,\n",
       " 0.8567732629096103,\n",
       " 0.9202585883723842,\n",
       " 0.9255432521452526,\n",
       " 0.8644102254367434,\n",
       " 0.9385142887026034,\n",
       " 0.9460917757498446,\n",
       " 0.9207069260914296,\n",
       " 0.9514799453147492,\n",
       " 0.9139266954161911,\n",
       " 0.9553531316141773,\n",
       " 0.785531762765215,\n",
       " 0.9198036328664854,\n",
       " 0.9487342603430873,\n",
       " 0.9600480244706604,\n",
       " 0.9187241505271269,\n",
       " 0.918150626778297,\n",
       " 0.9591473794438066,\n",
       " 0.93354890100807,\n",
       " 0.943296917465394,\n",
       " 0.9228635965565055,\n",
       " 0.9162013519326037,\n",
       " 0.9579857092566106,\n",
       " 0.920868734356062,\n",
       " 0.9608470515490087,\n",
       " 0.9518386888795114,\n",
       " 0.9410020154708658,\n",
       " 0.956580473139781,\n",
       " 0.9482611179434906,\n",
       " 0.9458465592640669,\n",
       " 0.9442471088967282,\n",
       " 0.9610392586924933,\n",
       " 0.9291185619782669,\n",
       " 0.9661423491747237,\n",
       " 0.9664465237019569,\n",
       " 0.9537432542809681,\n",
       " 0.9690188002446998,\n",
       " 0.957709744633899,\n",
       " 0.9523077770387826,\n",
       " 0.9464604140184308,\n",
       " 0.9598805809836171,\n",
       " 0.9431441524144826,\n",
       " 0.9374642816918713,\n",
       " 0.9195582112687951,\n",
       " 0.950560110096764,\n",
       " 0.9375065968455032,\n",
       " 0.9141441968947766,\n",
       " 0.9289774939885038,\n",
       " 0.9478036964515216,\n",
       " 0.9594436623276372,\n",
       " 0.9538434830231353,\n",
       " 0.9264375544916598,\n",
       " 0.9446606024232425,\n",
       " 0.9383332168851003,\n",
       " 0.9376204194600591,\n",
       " 0.9254291220893779,\n",
       " 0.9615385240743113,\n",
       " 0.9496626071568692,\n",
       " 0.9223739055308887,\n",
       " 0.9461953248639248,\n",
       " 0.949868716891884,\n",
       " 0.8948972314486114,\n",
       " 0.9663638578941802,\n",
       " 0.9068489065858231,\n",
       " 0.9202853738692444,\n",
       " 0.9316775789003834,\n",
       " 0.8402160983008139,\n",
       " 0.9592969252374705,\n",
       " 0.919304055496002,\n",
       " 0.8919941036887442,\n",
       " 0.9600889733876814,\n",
       " 0.9691802473036568,\n",
       " 0.9085883833357327]"
      ]
     },
     "execution_count": 53,
     "metadata": {},
     "output_type": "execute_result"
    }
   ],
   "source": [
    "scores"
   ]
  },
  {
   "cell_type": "markdown",
   "metadata": {},
   "source": [
    "Redo this with a higher amount of noise (about 400). For this you will need to create a new dataset. Plot the data. Plot the histogram of the R^2 as well as that of the coefficients.Try a smaller dataset as well. What conclusions can you draw?"
   ]
  },
  {
   "cell_type": "code",
   "execution_count": 76,
   "metadata": {},
   "outputs": [],
   "source": [
    "# your code here\n",
    "X, y, coef = make_regression(n_samples = 100, \n",
    "                       n_features=1, \n",
    "                       noise=20,\n",
    "                       random_state=2017,\n",
    "                       coef=True)"
   ]
  },
  {
   "cell_type": "code",
   "execution_count": 77,
   "metadata": {},
   "outputs": [
    {
     "data": {
      "text/plain": [
       "[<matplotlib.lines.Line2D at 0xa8c84d0>]"
      ]
     },
     "execution_count": 77,
     "metadata": {},
     "output_type": "execute_result"
    },
    {
     "data": {
      "image/png": "[encoded data removed]",
      "text/plain": [
       "<Figure size 432x288 with 1 Axes>"
      ]
     },
     "metadata": {
      "needs_background": "light"
     },
     "output_type": "display_data"
    }
   ],
   "source": [
    "plt.plot(X,y,\"o\")"
   ]
  },
  {
   "cell_type": "code",
   "execution_count": 78,
   "metadata": {},
   "outputs": [
    {
     "data": {
      "text/plain": [
       "(array([82.90456142]), -3.7092288686703023)"
      ]
     },
     "execution_count": 78,
     "metadata": {},
     "output_type": "execute_result"
    }
   ],
   "source": [
    "# your code here\n",
    "xgrid = np.linspace(-2.5,2.5,1000)\n",
    "Xgrid = xgrid.reshape(-1,1)\n",
    "lr = LinearRegression()\n",
    "lr.fit(X,y)\n",
    "ypgrid = lr.predict(Xgrid)\n",
    "lr.coef_, lr.intercept_"
   ]
  },
  {
   "cell_type": "code",
   "execution_count": 79,
   "metadata": {},
   "outputs": [
    {
     "data": {
      "text/plain": [
       "[<matplotlib.lines.Line2D at 0xa87f510>]"
      ]
     },
     "execution_count": 79,
     "metadata": {},
     "output_type": "execute_result"
    },
    {
     "data": {
      "image/png": "[encoded data removed]",
      "text/plain": [
       "<Figure size 432x288 with 1 Axes>"
      ]
     },
     "metadata": {
      "needs_background": "light"
     },
     "output_type": "display_data"
    }
   ],
   "source": [
    "# your code here\n",
    "plt.plot(Xgrid, ypgrid)\n",
    "plt.plot(X, y, '.')"
   ]
  },
  {
   "cell_type": "code",
   "execution_count": 58,
   "metadata": {},
   "outputs": [
    {
     "data": {
      "text/plain": [
       "0.07066243043021647"
      ]
     },
     "execution_count": 58,
     "metadata": {},
     "output_type": "execute_result"
    }
   ],
   "source": [
    "# your code here\n",
    "r2_score(y, lr.predict(X)) "
   ]
  },
  {
   "cell_type": "code",
   "execution_count": 67,
   "metadata": {},
   "outputs": [
    {
     "data": {
      "text/plain": [
       "(0.0, 1)"
      ]
     },
     "execution_count": 67,
     "metadata": {},
     "output_type": "execute_result"
    },
    {
     "data": {
      "image/png": "[encoded data removed]",
      "text/plain": [
       "<Figure size 432x288 with 1 Axes>"
      ]
     },
     "metadata": {
      "needs_background": "light"
     },
     "output_type": "display_data"
    }
   ],
   "source": [
    "# your code here\n",
    "scores = []\n",
    "for i in range(1000):\n",
    "    sample_indices = np.random.choice(range(100), size=20)\n",
    "    Xsample = X[sample_indices]\n",
    "    ysample = y[sample_indices]\n",
    "    scores.append(LinearRegression().fit(Xsample, ysample).score(Xsample, ysample))\n",
    "plt.hist(scores,  bins=np.linspace(0.0, 1, 30))\n",
    "plt.xlim(0.0,1)"
   ]
  },
  {
   "cell_type": "code",
   "execution_count": 70,
   "metadata": {},
   "outputs": [
    {
     "name": "stdout",
     "output_type": "stream",
     "text": [
      "[ 7  4  3  7  0 19 11 17  4 11  5  5  9  3 12 18 18  8 14  7]\n",
      "[12  3 19 16  9 10 13  8 10 17  4 14 19  3 11  3 13  3 16 12]\n",
      "[ 2 15  8  9 17  0 16 19 13  1 19 19  6  2  5 14 15 12 18 18]\n",
      "[ 1  8  1 18  1  0 17  7  9 13 18 13  0 13  3 11 18  6 16  5]\n",
      "[16  5  1  3 13  3 19 19  1 16 10  4  5  7 16  5  0  3 17 18]\n"
     ]
    }
   ],
   "source": [
    "for i in range(5):\n",
    "    sample_indices = np.random.choice(range(20), size=20, replace=True)\n",
    "    print(sample_indices)"
   ]
  },
  {
   "cell_type": "code",
   "execution_count": 80,
   "metadata": {},
   "outputs": [
    {
     "data": {
      "text/plain": [
       "(0.7, 1)"
      ]
     },
     "execution_count": 80,
     "metadata": {},
     "output_type": "execute_result"
    },
    {
     "data": {
      "image/png": "[encoded data removed]",
      "text/plain": [
       "<Figure size 432x288 with 1 Axes>"
      ]
     },
     "metadata": {
      "needs_background": "light"
     },
     "output_type": "display_data"
    }
   ],
   "source": [
    "#code here for bootstrap. Remember resample with replacement and size =100(size of original sample)\n",
    "scores = []\n",
    "slopes = []\n",
    "intercept = []\n",
    "for i in range(1000):\n",
    "    sample_indices = np.random.choice(range(100), size=100, replace=True)\n",
    "    Xsample = X[sample_indices]\n",
    "    ysample = y[sample_indices]\n",
    "    scores.append(LinearRegression().fit(Xsample, ysample).score(Xsample, ysample))\n",
    "plt.hist(scores,  bins=np.linspace(0.7, 1, 30))\n",
    "plt.xlim(0.7,1)"
   ]
  },
  {
   "cell_type": "markdown",
   "metadata": {},
   "source": [
    "## Testing and training\n",
    "\n",
    "A grid like the one we created might contain some of the points we fit this model on. This is called **Data Contamination** and is a big no-no. If we want an independent estimate of the error, we should hold out some points in a test set."
   ]
  },
  {
   "cell_type": "code",
   "execution_count": 29,
   "metadata": {},
   "outputs": [],
   "source": [
    "from sklearn.model_selection import train_test_split"
   ]
  },
  {
   "cell_type": "code",
   "execution_count": 30,
   "metadata": {},
   "outputs": [],
   "source": [
    "Xtrain, Xtest, ytrain, ytest = train_test_split(X, y, test_size=0.2, random_state=2017)"
   ]
  },
  {
   "cell_type": "markdown",
   "metadata": {},
   "source": [
    "Now lets fit the model on the training set and evaluate it both on the training set and the test set. We print the R^2"
   ]
  },
  {
   "cell_type": "code",
   "execution_count": 31,
   "metadata": {},
   "outputs": [],
   "source": [
    "lr2 = LinearRegression().fit(Xtrain, ytrain)\n",
    "r2_test = r2_score(ytest, lr.predict(Xtest))\n",
    "r2_train = r2_score(ytrain, lr.predict(Xtrain))"
   ]
  },
  {
   "cell_type": "code",
   "execution_count": 32,
   "metadata": {},
   "outputs": [],
   "source": [
    "\"Train R2 is {}, while test R^2 is {}\".format(r2_train, r2_test)"
   ]
  },
  {
   "cell_type": "markdown",
   "metadata": {},
   "source": [
    "## Using Keras to fit the model\n",
    "\n",
    "We'll use plain and simple gradient descent (why?) and Keras's Sequential API"
   ]
  },
  {
   "cell_type": "code",
   "execution_count": 67,
   "metadata": {},
   "outputs": [],
   "source": [
    "from keras.models import Sequential\n",
    "from keras.layers import Dense\n",
    "lr3 = Sequential()\n",
    "lr3.add(Dense(1, input_shape=(1,)))\n",
    "lr3.compile(optimizer='sgd', loss='mean_squared_error',  metrics=['mae','accuracy'])\n",
    "lr3.summary()"
   ]
  },
  {
   "cell_type": "code",
   "execution_count": 68,
   "metadata": {},
   "outputs": [],
   "source": [
    "history = lr3.fit(Xtrain, ytrain, epochs=400, batch_size=80)"
   ]
  },
  {
   "cell_type": "code",
   "execution_count": 69,
   "metadata": {},
   "outputs": [],
   "source": [
    "plt.plot(history.history['loss'])"
   ]
  },
  {
   "cell_type": "code",
   "execution_count": 70,
   "metadata": {},
   "outputs": [],
   "source": [
    "lr3.get_weights()"
   ]
  },
  {
   "cell_type": "markdown",
   "metadata": {},
   "source": [
    "### Using the Keras Functional API\n",
    "\n"
   ]
  },
  {
   "cell_type": "code",
   "execution_count": 71,
   "metadata": {},
   "outputs": [],
   "source": [
    "from keras.layers import Input, Dense\n",
    "from keras.models import Model\n",
    "\n",
    "inputs_placeholder = Input(shape=(1,))\n",
    "outputs_placeholder = Dense(1, activation='linear')(inputs_placeholder)\n",
    "\n",
    "m = Model(inputs=inputs_placeholder, outputs=outputs_placeholder)\n",
    "m.compile(optimizer='sgd', loss='mean_squared_error',  metrics=['mae','accuracy'])\n",
    "m.summary()"
   ]
  },
  {
   "cell_type": "code",
   "execution_count": 72,
   "metadata": {},
   "outputs": [],
   "source": [
    "history2 = m.fit(Xtrain, ytrain, epochs=250, batch_size=80)"
   ]
  },
  {
   "cell_type": "code",
   "execution_count": 73,
   "metadata": {},
   "outputs": [],
   "source": [
    "m.get_weights()"
   ]
  }
 ],
 "metadata": {
  "anaconda-cloud": {},
  "kernelspec": {
   "display_name": "Python 3",
   "language": "python",
   "name": "python3"
  },
  "language_info": {
   "codemirror_mode": {
    "name": "ipython",
    "version": 3
   },
   "file_extension": ".py",
   "mimetype": "text/x-python",
   "name": "python",
   "nbconvert_exporter": "python",
   "pygments_lexer": "ipython3",
   "version": "3.7.3"
  },
  "nteract": {
   "version": "0.7.1"
  }
 },
 "nbformat": 4,
 "nbformat_minor": 2
}
